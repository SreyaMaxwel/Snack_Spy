{
  "nbformat": 4,
  "nbformat_minor": 0,
  "metadata": {
    "colab": {
      "provenance": [],
      "authorship_tag": "ABX9TyOxMhI0qJndiZzMLZTcp+fM",
      "include_colab_link": true
    },
    "kernelspec": {
      "name": "python3",
      "display_name": "Python 3"
    },
    "language_info": {
      "name": "python"
    }
  },
  "cells": [
    {
      "cell_type": "markdown",
      "metadata": {
        "id": "view-in-github",
        "colab_type": "text"
      },
      "source": [
        "<a href=\"https://colab.research.google.com/github/SreyaMaxwel/Snack_Spy/blob/main/Snack_Spy.ipynb\" target=\"_parent\"><img src=\"https://colab.research.google.com/assets/colab-badge.svg\" alt=\"Open In Colab\"/></a>"
      ]
    },
    {
      "cell_type": "code",
      "source": [
        "# Install necessary packages\n",
        "!pip install -q streamlit rembg opencv-python-headless onnxruntime pyngrok\n"
      ],
      "metadata": {
        "id": "uwevhIKRpxuW"
      },
      "execution_count": 36,
      "outputs": []
    },
    {
      "cell_type": "code",
      "source": [
        "%%writefile app.py\n",
        "import cv2\n",
        "import numpy as np\n",
        "from rembg import remove\n",
        "from PIL import Image\n",
        "import streamlit as st\n",
        "import io\n",
        "\n",
        "def preprocess_image(file):\n",
        "    input_image = Image.open(file).convert(\"RGB\")\n",
        "    output_image = remove(input_image)\n",
        "    img_array = np.array(output_image)\n",
        "    gray = cv2.cvtColor(img_array, cv2.COLOR_RGB2GRAY)\n",
        "    _, binary = cv2.threshold(gray, 10, 255, cv2.THRESH_BINARY)\n",
        "    return binary\n",
        "\n",
        "def calculate_food_area(binary_mask):\n",
        "    return np.sum(binary_mask == 255)\n",
        "\n",
        "def main():\n",
        "    st.set_page_config(page_title=\"Food Quantity Comparator\", layout=\"wide\")\n",
        "    st.title(\"🍲 Food Quantity Comparator\")\n",
        "    st.markdown(\"Upload two food images to **compare their quantity visually** using computer vision.\")\n",
        "\n",
        "    col1, col2 = st.columns(2)\n",
        "    with col1:\n",
        "        img1 = st.file_uploader(\"Upload First Image\", type=[\"jpg\", \"jpeg\", \"png\"], key=\"1\")\n",
        "    with col2:\n",
        "        img2 = st.file_uploader(\"Upload Second Image\", type=[\"jpg\", \"jpeg\", \"png\"], key=\"2\")\n",
        "\n",
        "    if img1 and img2:\n",
        "        st.subheader(\"🔍 Preprocessing Images...\")\n",
        "        binary1 = preprocess_image(img1)\n",
        "        binary2 = preprocess_image(img2)\n",
        "\n",
        "        area1 = calculate_food_area(binary1)\n",
        "        area2 = calculate_food_area(binary2)\n",
        "\n",
        "        similarity = min(area1, area2) / max(area1, area2)\n",
        "\n",
        "        st.write(\"---\")\n",
        "        st.subheader(\"🖼 Original Images\")\n",
        "        col3, col4 = st.columns(2)\n",
        "        with col3:\n",
        "            st.image(img1, caption=\"Image 1\", use_column_width=True)\n",
        "        with col4:\n",
        "            st.image(img2, caption=\"Image 2\", use_column_width=True)\n",
        "\n",
        "        st.write(\"---\")\n",
        "        st.subheader(\"📐 Analysis\")\n",
        "        st.write(f\"📏 **Image 1 Area:** {area1} pixels\")\n",
        "        st.write(f\"📏 **Image 2 Area:** {area2} pixels\")\n",
        "        st.write(f\"📊 **Similarity:** {similarity * 100:.2f}%\")\n",
        "\n",
        "        st.write(\"---\")\n",
        "        if similarity > 0.9:\n",
        "            st.success(\"✅ Quantities are **very similar or the same**!\")\n",
        "        elif similarity > 0.7:\n",
        "            st.warning(\"⚠️ Quantities are **somewhat similar**, but not exact.\")\n",
        "        else:\n",
        "            st.error(\"❌ Quantities are **different**.\")\n",
        "\n",
        "if __name__ == \"__main__\":\n",
        "    main()\n"
      ],
      "metadata": {
        "colab": {
          "base_uri": "https://localhost:8080/"
        },
        "id": "FMB8jMLWqFP0",
        "outputId": "c6d9d098-4c1e-4e06-c935-e734cf87b4b6"
      },
      "execution_count": 37,
      "outputs": [
        {
          "output_type": "stream",
          "name": "stdout",
          "text": [
            "Overwriting app.py\n"
          ]
        }
      ]
    },
    {
      "cell_type": "code",
      "source": [
        "import threading\n",
        "import time\n",
        "from pyngrok import ngrok\n",
        "\n",
        "ngrok.kill()\n",
        "\n",
        "def run():\n",
        "    !streamlit run app.py &> /content/log.txt\n",
        "\n",
        "thread = threading.Thread(target=run)\n",
        "thread.start()\n",
        "time.sleep(5)\n",
        "\n",
        "public_url = ngrok.connect(8501)\n",
        "print(f\"🚀 Your app is live at: {public_url}\")\n"
      ],
      "metadata": {
        "colab": {
          "base_uri": "https://localhost:8080/"
        },
        "id": "cbfo1xnDqJHQ",
        "outputId": "408dc955-6977-4d44-86eb-897d306aadbb"
      },
      "execution_count": 38,
      "outputs": [
        {
          "output_type": "stream",
          "name": "stdout",
          "text": [
            "🚀 Your app is live at: NgrokTunnel: \"https://708785a2ee9a.ngrok-free.app\" -> \"http://localhost:8501\"\n"
          ]
        }
      ]
    }
  ]
}